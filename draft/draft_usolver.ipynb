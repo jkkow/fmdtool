{
 "cells": [
  {
   "cell_type": "code",
   "execution_count": 32,
   "metadata": {},
   "outputs": [],
   "source": [
    "%matplotlib inline\n",
    "import warnings\n",
    "import matplotlib.pyplot as plt\n",
    "import numpy as np\n",
    "from scipy.special import jv, kv, jn_zeros\n",
    "from scipy.optimize import fsolve"
   ]
  },
  {
   "cell_type": "code",
   "execution_count": 70,
   "metadata": {},
   "outputs": [],
   "source": [
    "v = 5\n",
    "na = 0.22"
   ]
  },
  {
   "cell_type": "code",
   "execution_count": 71,
   "metadata": {},
   "outputs": [],
   "source": [
    "def gen_eigen_eq_TE():\n",
    "    \n",
    "    def wrapper(u):\n",
    "        w = np.sqrt(v*v-u*u)\n",
    "        return w * jv(1, u) / jv(0, u) + u * kv(1, w) / kv(0, w)\n",
    "\n",
    "    return wrapper"
   ]
  },
  {
   "cell_type": "code",
   "execution_count": 81,
   "metadata": {},
   "outputs": [],
   "source": [
    "def lhs_eigen_eq_TE():\n",
    "    \n",
    "    def wrapper(u):\n",
    "        w = np.sqrt(v*v-u*u)\n",
    "        return w * jv(1, u) / jv(0, u)\n",
    "\n",
    "    return wrapper"
   ]
  },
  {
   "cell_type": "code",
   "execution_count": 82,
   "metadata": {},
   "outputs": [],
   "source": [
    "def rhs_eigen_eq_TE():\n",
    "  \n",
    "  def wrapper(u):\n",
    "    w = np.sqrt(v*v-u*u)\n",
    "    return -u * kv(1, w) / kv(0, w)\n",
    "\n",
    "  return wrapper"
   ]
  },
  {
   "cell_type": "code",
   "execution_count": 83,
   "metadata": {},
   "outputs": [
    {
     "data": {
      "text/plain": [
       "<matplotlib.collections.LineCollection at 0x23c49fd7890>"
      ]
     },
     "execution_count": 83,
     "metadata": {},
     "output_type": "execute_result"
    },
    {
     "data": {
      "image/png": "[encoded data removed]",
      "text/plain": [
       "<Figure size 640x480 with 1 Axes>"
      ]
     },
     "metadata": {},
     "output_type": "display_data"
    }
   ],
   "source": [
    "lhs = lhs_eigen_eq_TE()\n",
    "rhs = rhs_eigen_eq_TE()\n",
    "\n",
    "delta = 0.00001\n",
    "u = np.linspace(delta, v-delta, int(v*1000))\n",
    "lhs = lhs(u)\n",
    "rhs = rhs(u)\n",
    "\n",
    "# Limits plot range by setting values over 1.2V as 'None'\n",
    "plot_limit = 3*v\n",
    "mlhs = np.where(abs(lhs) >= plot_limit, None, lhs)\n",
    "mrhs = np.where(abs(rhs) >= plot_limit, None, rhs)\n",
    "\n",
    "plt.plot(u, mlhs, color='blue') # plot left-side of eigen-value eq.\n",
    "plt.plot(u, mrhs, color='red')  # plot right-side of eigen-value eq.\n",
    "plt.hlines(y=0, xmin=0, xmax=v, colors='k') # plot x axis.\n",
    "\n",
    "# plot diverging assymtotic lines\n",
    "# max_num = find_max_num_jn_zeors(l, V)\n",
    "# aymtotic_vertical_lines = jn_zeros(l, max_num) \n",
    "# for n in aymtotic_vertical_lines:\n",
    "#     plt.vlines(x=n, ymin=-plot_limit, ymax=plot_limit, linestyles='dashed', colors='k')"
   ]
  },
  {
   "cell_type": "code",
   "execution_count": null,
   "metadata": {},
   "outputs": [],
   "source": []
  }
 ],
 "metadata": {
  "kernelspec": {
   "display_name": "Python 3",
   "language": "python",
   "name": "python3"
  },
  "language_info": {
   "codemirror_mode": {
    "name": "ipython",
    "version": 3
   },
   "file_extension": ".py",
   "mimetype": "text/x-python",
   "name": "python",
   "nbconvert_exporter": "python",
   "pygments_lexer": "ipython3",
   "version": "3.12.4"
  },
  "orig_nbformat": 4,
  "vscode": {
   "interpreter": {
    "hash": "99b668292b24cf82fd5b9f2281db2c283521520abbb8ce942d3b96f9817cfa48"
   }
  }
 },
 "nbformat": 4,
 "nbformat_minor": 2
}
