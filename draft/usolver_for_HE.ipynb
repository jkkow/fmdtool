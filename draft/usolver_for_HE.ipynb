{
 "cells": [
  {
   "cell_type": "markdown",
   "metadata": {},
   "source": [
    "# Solving Characteristic equation of HE Modes"
   ]
  },
  {
   "cell_type": "code",
   "execution_count": 128,
   "metadata": {},
   "outputs": [],
   "source": [
    "%matplotlib inline\n",
    "import warnings\n",
    "import matplotlib.pyplot as plt\n",
    "from matplotlib.ticker import AutoMinorLocator\n",
    "import numpy as np\n",
    "from scipy.special import jv, kv, jn_zeros\n",
    "from scipy.optimize import fsolve"
   ]
  },
  {
   "cell_type": "markdown",
   "metadata": {},
   "source": [
    "## HE mode equation\n",
    "\n",
    "$$\n",
    "\\begin{align}\n",
    "\\sqrt{\n",
    "\t\\left[\n",
    "\t\t\tuw^2\\,\\frac{J_{q-1}(u)}{J_q(u)} \n",
    "\t\t\t- u^2w\\,\\frac{K_{q-1}(w)}{K_q(w)}\n",
    "\t\t\t- q\\,V^2\n",
    "\t\\right]\n",
    "\t\\left[\n",
    "\t\t\t\\left(\\frac{n_1}{n_2}\\right)^2  uw^2\\,\\frac{J_{q-1}(u)}{J_q(u)} \n",
    "\t\t\t- u^2w\\,\\frac{K_{q-1}(w)}{K_q(w)}\n",
    "\t\t\t- q \\left\\{\n",
    "\t\t\t\t\t\\left(\\frac{n_1}{n_2}\\right)^2 w^2 + u^2\n",
    "\t\t\t\t \\right\\}\n",
    "\t\\right]\n",
    "} \\\\\n",
    "+q\\,\n",
    "\\sqrt{\n",
    "V^2 \\left\\{ \\left( \\frac{n_1}{n_2} \\right)^2 w^2 + u^2 \\right\\} \n",
    "} = 0\n",
    "\\end{align}\n",
    "$$\n",
    "\n",
    "풀어야 할 HE 모드 방정식을 함수 형태로 정리한다.  "
   ]
  },
  {
   "cell_type": "code",
   "execution_count": 129,
   "metadata": {},
   "outputs": [],
   "source": [
    "def gen_eigen_eq(n1, n2, q, **kwargs):\n",
    "    \n",
    "    def eq_he(u):\n",
    "        w = np.sqrt(v*v - u*u)\n",
    "        N = (n1/n2)**2\n",
    "        J = jv(q-1,u)/jv(q,u)\n",
    "        K = kv(q-1,w)/kv(q,w)\n",
    "        A = u*w*w*J - u*u*w*K - q*v*v\n",
    "        B = N*u*w*w*J - u*u*w*K - q*(N*w*w + u*u)\n",
    "        C = q*q*v*v*(N*w*w + u*u)\n",
    "        return np.sqrt(A*B) + np.sqrt(C)\n",
    "\n",
    "    if kwargs.get(\"mode\")==\"HE\":\n",
    "        return eq_he"
   ]
  },
  {
   "cell_type": "code",
   "execution_count": 139,
   "metadata": {},
   "outputs": [
    {
     "name": "stdout",
     "output_type": "stream",
     "text": [
      "[  199.99999963   153.64577005    -8.39627828  -602.91971418\n",
      "   382.70551065  -256.14008615 -1302.11936661   -10.39524519\n",
      "  -373.13543288            nan]\n"
     ]
    },
    {
     "name": "stderr",
     "output_type": "stream",
     "text": [
      "C:\\Users\\jkkow\\AppData\\Local\\Temp\\ipykernel_6528\\558969353.py:6: RuntimeWarning: invalid value encountered in multiply\n",
      "  K = u*u*w*kv(q-1, w)/kv(q, w)\n"
     ]
    }
   ],
   "source": [
    "v = 10\n",
    "q=1\n",
    "u = np.linspace(0.0001, v, 10)\n",
    "w = np.sqrt(v*v - u*u)\n",
    "J = u*w*w*jv(q-1, u)/jv(q, u)\n",
    "K = u*u*w*kv(q-1, w)/kv(q, w)\n",
    "Q = q*v*\n",
    "print(J-K)"
   ]
  },
  {
   "cell_type": "markdown",
   "metadata": {},
   "source": [
    "## Graphical Soulution of HE mode\n",
    "\n",
    "Graphical solution을 구하기 위해 `scipy.optimize`모듈의 함수 `fsolve()`를 사용한다.  \n",
    "이때의 주요 문제는 다양한 V 값에 대해 모든 해를 오류없이 구하기 위한 '초기값' 설정이다.  \n",
    "이 초기값만 잘 설정해 줄 수 있으면 `fsolve()`함수로 무리없이 방정식의 근을 구할 수 있다."
   ]
  },
  {
   "cell_type": "markdown",
   "metadata": {},
   "source": [
    "### Getting asymtotic points\n",
    "\n",
    "올바른 해를 얻기 위한 수치계산 초기값 설정에는 eigenvalue equation이 발산하는 지점을 아는 것이 중요하다.  \n",
    "이 발산점들을 향해 eigenvalue eq.는 점근(asymtote)한다.  \n",
    "다음에 주어진 V 값에 대한 방정식의 모든 점근선 위치를 반환하는 함수를 정의한다.  \n",
    "\n",
    "먼저 주어진 V 값에 대해 몇 개의 발산 포인트가 있는지 계산해주는 함수를 만들고,"
   ]
  },
  {
   "cell_type": "code",
   "execution_count": 131,
   "metadata": {},
   "outputs": [],
   "source": [
    "def num_of_zeros_jn(v, q) -> int:\n",
    "  count: int = 1\n",
    "  while jn_zeros(q, count)[-1] < v:\n",
    "    count += 1\n",
    "    if count > 100:\n",
    "      raise ValueError(\"Too many points of Bessel zeros\")\n",
    "  num = count - 1 \n",
    "  return num"
   ]
  },
  {
   "cell_type": "markdown",
   "metadata": {},
   "source": [
    "이를 이용해 asymtotic_point를 구하는 함수를 다음과 같이 정의할 수 있다."
   ]
  },
  {
   "cell_type": "code",
   "execution_count": 132,
   "metadata": {},
   "outputs": [],
   "source": [
    "def get_asymtotic_points(v, q) -> list:\n",
    "  num: int = num_of_zeros_jn(v, q)\n",
    "  if num ==0:\n",
    "    return None\n",
    "  else:\n",
    "    asymtotic_points = jn_zeros(q, num)\n",
    "    return asymtotic_points"
   ]
  },
  {
   "cell_type": "markdown",
   "metadata": {},
   "source": [
    "### Define plotting funtion to analysis\n",
    "\n",
    "다음과 같이 eigenvalue equation 전체를 plot하는 함수를 정의하여 분석에 이용한다. "
   ]
  },
  {
   "cell_type": "code",
   "execution_count": 136,
   "metadata": {},
   "outputs": [],
   "source": [
    "def plot_eigen_eq(v, n1, n2, q):\n",
    "  fig, axe = plt.subplots()\n",
    "\n",
    "  delta = 0.000001\n",
    "  u = np.linspace(delta, v-delta, int(v*50000))\n",
    "  eigen = gen_eigen_eq(n1, n2, q, mode='HE')\n",
    "  eq = eigen(u)\n",
    "\n",
    "  label = f\"Square of eigen eq. HE\"\n",
    "\n",
    "  # Limits plot range by setting values over 1.2V as 'None'\n",
    "  plot_limit = 1000\n",
    "  meq = np.where(abs(eq) >= plot_limit, None, eq)\n",
    "\n",
    "  axe.set_title(r\"$HE_{qm}$ modes\" + f\" @V={v:.4f}, q={q}\")\n",
    "  axe.plot(u, meq, color='green', label=label) # plot eigen-value eq.\n",
    "  axe.hlines(y=0, xmin=0, xmax=v, colors='k') # plot x axis.\n",
    "  axe.set_xlabel(\"$u$\")\n",
    "  axe.set_ylim(-plot_limit, plot_limit)\n",
    "  axe.xaxis.set_minor_locator(AutoMinorLocator(5))\n",
    "  axe.legend(loc=2)\n",
    "\n",
    "  # plot diverging assymtotic lines\n",
    "  asymtotic_lines = get_asymtotic_points(v, q=0)\n",
    "  print(f\"asymtotic_lines={asymtotic_lines}\")\n",
    "  plt.vlines(x=asymtotic_lines, ymin=-plot_limit, ymax=plot_limit, linestyles='dashed', colors='k', alpha=0.5, linewidth=0.9)\n",
    "\n",
    "  return axe"
   ]
  },
  {
   "cell_type": "code",
   "execution_count": 140,
   "metadata": {},
   "outputs": [
    {
     "name": "stdout",
     "output_type": "stream",
     "text": [
      "asymtotic_lines=[2.40482556]\n"
     ]
    },
    {
     "data": {
      "text/plain": [
       "<Axes: title={'center': '$HE_{qm}$ modes @V=3.0000, q=2'}, xlabel='$u$'>"
      ]
     },
     "execution_count": 140,
     "metadata": {},
     "output_type": "execute_result"
    },
    {
     "data": {
      "image/png": "[encoded data removed]",
      "text/plain": [
       "<Figure size 640x480 with 1 Axes>"
      ]
     },
     "metadata": {},
     "output_type": "display_data"
    }
   ],
   "source": [
    "v = 3\n",
    "n2 = 1.444\n",
    "na = 0.22\n",
    "# n1 = (na/n2)**2 + 1\n",
    "n1 = n2\n",
    "q = 2\n",
    "plot_eigen_eq(v, n1, n2, q)"
   ]
  },
  {
   "cell_type": "markdown",
   "metadata": {},
   "source": [
    "### Initial values to get numerical solutions\n",
    "\n",
    "그래프를 그려가며 분석한 결과 V 값이 방정식의 점근선에 가까울 때 마지막 근의 경우  \n",
    "그래프가 급격히 변화하여 `RuntimeWarning`이 발생한다.  \n",
    "이와 같은 경우는 다음과 같이 마지막 초기값을 점근선과 V값의 중앙 값으로 하여 해결할 수 있다."
   ]
  },
  {
   "cell_type": "code",
   "execution_count": 135,
   "metadata": {},
   "outputs": [],
   "source": [
    "def get_init_points_to_solve(v, q):\n",
    "  asymtotic_points = get_asymtotic_points(v, q)\n",
    "  if asymtotic_points is not None:\n",
    "    offset = (v - asymtotic_points[-1])/2 # critical to avoide RuntimeWarning\n",
    "    init_points = asymtotic_points + offset\n",
    "    return init_points\n",
    "  else:\n",
    "    return None"
   ]
  },
  {
   "cell_type": "markdown",
   "metadata": {},
   "source": [
    "### Function to get list of solutions\n",
    "\n",
    "위의 함수로 수치해를 풀 초기값을 설정한 후 다음 함수로 해집합을 에러 없이 구할 수 있다."
   ]
  },
  {
   "cell_type": "code",
   "execution_count": null,
   "metadata": {},
   "outputs": [],
   "source": []
  }
 ],
 "metadata": {
  "kernelspec": {
   "display_name": "Python 3",
   "language": "python",
   "name": "python3"
  },
  "language_info": {
   "codemirror_mode": {
    "name": "ipython",
    "version": 3
   },
   "file_extension": ".py",
   "mimetype": "text/x-python",
   "name": "python",
   "nbconvert_exporter": "python",
   "pygments_lexer": "ipython3",
   "version": "3.12.4"
  },
  "orig_nbformat": 4,
  "vscode": {
   "interpreter": {
    "hash": "99b668292b24cf82fd5b9f2281db2c283521520abbb8ce942d3b96f9817cfa48"
   }
  }
 },
 "nbformat": 4,
 "nbformat_minor": 2
}
