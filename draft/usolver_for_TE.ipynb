{
 "cells": [
  {
   "cell_type": "markdown",
   "metadata": {},
   "source": [
    "# Solving Characteristic equation of TE Modes"
   ]
  },
  {
   "cell_type": "code",
   "execution_count": 1,
   "metadata": {},
   "outputs": [],
   "source": [
    "%matplotlib inline\n",
    "import warnings\n",
    "import matplotlib.pyplot as plt\n",
    "import numpy as np\n",
    "from scipy.special import jv, kv, jn_zeros\n",
    "from scipy.optimize import fsolve"
   ]
  },
  {
   "cell_type": "markdown",
   "metadata": {},
   "source": [
    "## TE mode equation\n",
    "\n",
    "풀어야 할 TE 모드 방정식을 함수 형태로 정리한다.\n",
    "TE 모드는 그렇지 않지만 다른 general mode는 특성방정식에 여러 Bessel integer가 가능하므로  \n",
    "일반화 하기 위해 클로저 형태로 함수를 정의했다."
   ]
  },
  {
   "cell_type": "code",
   "execution_count": 2,
   "metadata": {},
   "outputs": [],
   "source": [
    "def gen_eigen_eq_TE():\n",
    "    \n",
    "    def wrap(u):\n",
    "        w = np.sqrt(v*v-u*u)\n",
    "        return w * jv(1, u) / jv(0, u) + u * kv(1, w) / kv(0, w)\n",
    "\n",
    "    return wrap"
   ]
  },
  {
   "cell_type": "markdown",
   "metadata": {},
   "source": [
    "다음과 같이 TE eigen eq.를 LHS와 RHS로 나누어 정리해 두면 Graphical solution을 구하기 위해 그래프를 그리고 해를 분석하기 편리하다."
   ]
  },
  {
   "cell_type": "markdown",
   "metadata": {},
   "source": [
    "### LHS eq."
   ]
  },
  {
   "cell_type": "code",
   "execution_count": 3,
   "metadata": {},
   "outputs": [],
   "source": [
    "def lhs_eigen_eq_TE():\n",
    "    \n",
    "    def wrap(u):\n",
    "        w = np.sqrt(v*v-u*u)\n",
    "        return w * jv(1, u) / jv(0, u)\n",
    "\n",
    "    return wrap"
   ]
  },
  {
   "cell_type": "markdown",
   "metadata": {},
   "source": [
    "### RHS eq."
   ]
  },
  {
   "cell_type": "code",
   "execution_count": 4,
   "metadata": {},
   "outputs": [],
   "source": [
    "def rhs_eigen_eq_TE():\n",
    "  \n",
    "  def wrap(u):\n",
    "    w = np.sqrt(v*v-u*u)\n",
    "    return -u * kv(1, w) / kv(0, w)\n",
    "\n",
    "  return wrap"
   ]
  },
  {
   "cell_type": "markdown",
   "metadata": {},
   "source": [
    "## Solving Graphical Soulution of TE mode\n",
    "\n",
    "### Getting assymtotic lines of LHS eq.\n",
    "\n",
    "LHS 방정식에의 분모에는 베셀함수 `jv(0, u)`가 포함되어 있다.  \n",
    "이 값이 0에 가까워지는 u값에서 LHS는 발산하며 점근선을 이룬다.  \n",
    "이 점근선들은 Python 함수 `fsolve()`로 TE 모드 방정식의 수치해를 구할때 파라미터로 넣어주는 초기값 설정에 기준이 된다.\n",
    "\n",
    "이들을 다음과 같이 `jn_zeros(l, num)` 함수를 사용해 구할 수 있다. \n",
    "이 함수는 `jv(l, u)` 함수가 0이 되는 num개의 u 값을 반환한다.\n",
    "\n",
    "고려하는 num은 계산 하려는 시스템의 V 값에 의존하므로 다음과 같이 `num_of_zeros_jn(l)`를 정의해 사용할 수 있다."
   ]
  },
  {
   "cell_type": "code",
   "execution_count": 5,
   "metadata": {},
   "outputs": [
    {
     "name": "stdout",
     "output_type": "stream",
     "text": [
      "[2.40482556 5.52007811 8.65372791]\n"
     ]
    }
   ],
   "source": [
    "def num_of_zeros_jn(l) -> int:\n",
    "  count = 1\n",
    "  while jn_zeros(l, count)[-1] < v:\n",
    "    count += 1\n",
    "    if count > 100:\n",
    "      raise ValueError(\"Too many points of Bessel zeros\")\n",
    "  num = count - 1 \n",
    "  return num\n",
    "\n",
    "\n",
    "v = 10\n",
    "num = num_of_zeros_jn(l=0) # TE mode의 경우 LHS 분모의 Bessel integer l=0 \n",
    "print(jn_zeros(0, num))"
   ]
  },
  {
   "cell_type": "markdown",
   "metadata": {},
   "source": [
    "### Graphical solution Analysis"
   ]
  },
  {
   "cell_type": "code",
   "execution_count": 69,
   "metadata": {},
   "outputs": [
    {
     "ename": "ValueError",
     "evalue": "nt > 0",
     "output_type": "error",
     "traceback": [
      "\u001b[1;31m---------------------------------------------------------------------------\u001b[0m",
      "\u001b[1;31mValueError\u001b[0m                                Traceback (most recent call last)",
      "Cell \u001b[1;32mIn[69], line 30\u001b[0m\n\u001b[0;32m     28\u001b[0m \u001b[38;5;66;03m# plot diverging assymtotic lines\u001b[39;00m\n\u001b[0;32m     29\u001b[0m num \u001b[38;5;241m=\u001b[39m num_of_zeros_jn(l\u001b[38;5;241m=\u001b[39m\u001b[38;5;241m0\u001b[39m)\n\u001b[1;32m---> 30\u001b[0m aymtotic_vertical_lines \u001b[38;5;241m=\u001b[39m \u001b[43mjn_zeros\u001b[49m\u001b[43m(\u001b[49m\u001b[38;5;241;43m0\u001b[39;49m\u001b[43m,\u001b[49m\u001b[43m \u001b[49m\u001b[43mnum\u001b[49m\u001b[43m)\u001b[49m\n\u001b[0;32m     31\u001b[0m \u001b[38;5;28;01mfor\u001b[39;00m n \u001b[38;5;129;01min\u001b[39;00m aymtotic_vertical_lines:\n\u001b[0;32m     32\u001b[0m   plt\u001b[38;5;241m.\u001b[39mvlines(x\u001b[38;5;241m=\u001b[39mn, ymin\u001b[38;5;241m=\u001b[39m\u001b[38;5;241m-\u001b[39mplot_limit, ymax\u001b[38;5;241m=\u001b[39mplot_limit, linestyles\u001b[38;5;241m=\u001b[39m\u001b[38;5;124m'\u001b[39m\u001b[38;5;124mdashed\u001b[39m\u001b[38;5;124m'\u001b[39m, colors\u001b[38;5;241m=\u001b[39m\u001b[38;5;124m'\u001b[39m\u001b[38;5;124mk\u001b[39m\u001b[38;5;124m'\u001b[39m, alpha\u001b[38;5;241m=\u001b[39m\u001b[38;5;241m0.5\u001b[39m, linewidth\u001b[38;5;241m=\u001b[39m\u001b[38;5;241m0.9\u001b[39m)\n",
      "File \u001b[1;32mc:\\Users\\jkkow\\scoop\\apps\\python\\current\\Lib\\site-packages\\scipy\\special\\_basic.py:393\u001b[0m, in \u001b[0;36mjn_zeros\u001b[1;34m(n, nt)\u001b[0m\n\u001b[0;32m    333\u001b[0m \u001b[38;5;28;01mdef\u001b[39;00m \u001b[38;5;21mjn_zeros\u001b[39m(n, nt):\n\u001b[0;32m    334\u001b[0m \u001b[38;5;250m    \u001b[39m\u001b[38;5;124mr\u001b[39m\u001b[38;5;124;03m\"\"\"Compute zeros of integer-order Bessel functions Jn.\u001b[39;00m\n\u001b[0;32m    335\u001b[0m \n\u001b[0;32m    336\u001b[0m \u001b[38;5;124;03m    Compute `nt` zeros of the Bessel functions :math:`J_n(x)` on the\u001b[39;00m\n\u001b[1;32m   (...)\u001b[0m\n\u001b[0;32m    391\u001b[0m \u001b[38;5;124;03m    >>> plt.show()\u001b[39;00m\n\u001b[0;32m    392\u001b[0m \u001b[38;5;124;03m    \"\"\"\u001b[39;00m\n\u001b[1;32m--> 393\u001b[0m     \u001b[38;5;28;01mreturn\u001b[39;00m \u001b[43mjnyn_zeros\u001b[49m\u001b[43m(\u001b[49m\u001b[43mn\u001b[49m\u001b[43m,\u001b[49m\u001b[43m \u001b[49m\u001b[43mnt\u001b[49m\u001b[43m)\u001b[49m[\u001b[38;5;241m0\u001b[39m]\n",
      "File \u001b[1;32mc:\\Users\\jkkow\\scoop\\apps\\python\\current\\Lib\\site-packages\\scipy\\special\\_basic.py:329\u001b[0m, in \u001b[0;36mjnyn_zeros\u001b[1;34m(n, nt)\u001b[0m\n\u001b[0;32m    327\u001b[0m     \u001b[38;5;28;01mraise\u001b[39;00m \u001b[38;5;167;01mValueError\u001b[39;00m(\u001b[38;5;124m\"\u001b[39m\u001b[38;5;124mArguments must be integers.\u001b[39m\u001b[38;5;124m\"\u001b[39m)\n\u001b[0;32m    328\u001b[0m \u001b[38;5;28;01mif\u001b[39;00m (nt \u001b[38;5;241m<\u001b[39m\u001b[38;5;241m=\u001b[39m \u001b[38;5;241m0\u001b[39m):\n\u001b[1;32m--> 329\u001b[0m     \u001b[38;5;28;01mraise\u001b[39;00m \u001b[38;5;167;01mValueError\u001b[39;00m(\u001b[38;5;124m\"\u001b[39m\u001b[38;5;124mnt > 0\u001b[39m\u001b[38;5;124m\"\u001b[39m)\n\u001b[0;32m    330\u001b[0m \u001b[38;5;28;01mreturn\u001b[39;00m _specfun\u001b[38;5;241m.\u001b[39mjyzo(\u001b[38;5;28mabs\u001b[39m(n), nt)\n",
      "\u001b[1;31mValueError\u001b[0m: nt > 0"
     ]
    },
    {
     "data": {
      "image/png": "[encoded data removed]",
      "text/plain": [
       "<Figure size 640x480 with 1 Axes>"
      ]
     },
     "metadata": {},
     "output_type": "display_data"
    }
   ],
   "source": [
    "v = jn_zeros(0,1)[-1]-0.00001\n",
    "na = 0.22\n",
    "\n",
    "lhs = lhs_eigen_eq_TE()\n",
    "rhs = rhs_eigen_eq_TE()\n",
    "\n",
    "delta = 0.00001\n",
    "u = np.linspace(delta, v-delta, int(v*5000))\n",
    "lhs = lhs(u)\n",
    "lhs_label = f\"$w J_1(u)/J_0(u)$\"\n",
    "\n",
    "rhs = rhs(u)\n",
    "rhs_label = f\"$u K_1(u)/K_0(u)$\"\n",
    "\n",
    "# Limits plot range by setting values over 1.2V as 'None'\n",
    "plot_limit = 70\n",
    "mlhs = np.where(abs(lhs) >= plot_limit, None, lhs)\n",
    "mrhs = np.where(abs(rhs) >= plot_limit, None, rhs)\n",
    "\n",
    "fig, axe = plt.subplots()\n",
    "axe.set_title(f\"TE modes @V={v}\")\n",
    "axe.plot(u, mlhs, color='blue', label=lhs_label) # plot left-side of eigen-value eq.\n",
    "axe.plot(u, mrhs, color='red', label=rhs_label)  # plot right-side of eigen-value eq.\n",
    "axe.hlines(y=0, xmin=0, xmax=v, colors='k') # plot x axis.\n",
    "axe.set_xlabel(\"$u$\")\n",
    "axe.legend()\n",
    "\n",
    "# plot diverging assymtotic lines\n",
    "num = num_of_zeros_jn(l=0)\n",
    "aymtotic_vertical_lines = jn_zeros(0, num)\n",
    "for n in aymtotic_vertical_lines:\n",
    "  plt.vlines(x=n, ymin=-plot_limit, ymax=plot_limit, linestyles='dashed', colors='k', alpha=0.5, linewidth=0.9)"
   ]
  },
  {
   "cell_type": "code",
   "execution_count": 70,
   "metadata": {},
   "outputs": [
    {
     "name": "stdout",
     "output_type": "stream",
     "text": [
      "None\n"
     ]
    }
   ],
   "source": [
    "def get_init_points_to_solve_TE():\n",
    "  offset1 = 0.001\n",
    "  offset2 = 0.2\n",
    "  num = num_of_zeros_jn(l=0)\n",
    "  if v <= jn_zeros(0, 1):\n",
    "    return None\n",
    "  else:\n",
    "    return jn_zeros(0, num) + offset1\n",
    "\n",
    "init_points_for_TE = get_init_points_to_solve_TE()\n",
    "print(init_points_for_TE)"
   ]
  },
  {
   "cell_type": "code",
   "execution_count": 71,
   "metadata": {},
   "outputs": [
    {
     "name": "stdout",
     "output_type": "stream",
     "text": [
      "None\n"
     ]
    }
   ],
   "source": [
    "def get_roots_for_TE():\n",
    "  init_points_for_TE = get_init_points_to_solve_TE()\n",
    "  if np.size(init_points_for_TE) < 2 and init_points_for_TE is None:\n",
    "    return None\n",
    "  \n",
    "  with warnings.catch_warnings():\n",
    "    warnings.simplefilter(\"error\", RuntimeWarning)\n",
    "\n",
    "    try:\n",
    "      roots = fsolve(gen_eigen_eq_TE(), init_points_for_TE)\n",
    "    except RuntimeWarning as e:\n",
    "      print(f\"RuntimeWarning: {e}\")\n",
    "      roots = fsolve(gen_eigen_eq_TE(), init_points_for[:-1])\n",
    "      roots = np.append(roots, v)\n",
    "      print(\"The last solution is replaced by the value V.\")\n",
    "    finally:\n",
    "      return roots\n",
    "\n",
    "\n",
    "roots_for_TE = get_roots_for_TE()\n",
    "print(roots_for_TE)"
   ]
  },
  {
   "cell_type": "code",
   "execution_count": null,
   "metadata": {},
   "outputs": [],
   "source": []
  }
 ],
 "metadata": {
  "kernelspec": {
   "display_name": "Python 3",
   "language": "python",
   "name": "python3"
  },
  "language_info": {
   "codemirror_mode": {
    "name": "ipython",
    "version": 3
   },
   "file_extension": ".py",
   "mimetype": "text/x-python",
   "name": "python",
   "nbconvert_exporter": "python",
   "pygments_lexer": "ipython3",
   "version": "3.12.4"
  },
  "orig_nbformat": 4,
  "vscode": {
   "interpreter": {
    "hash": "99b668292b24cf82fd5b9f2281db2c283521520abbb8ce942d3b96f9817cfa48"
   }
  }
 },
 "nbformat": 4,
 "nbformat_minor": 2
}
